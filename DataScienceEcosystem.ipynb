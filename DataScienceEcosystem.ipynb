{
 "cells": [
  {
   "cell_type": "markdown",
   "id": "98e239b9-58bd-4660-927b-eca89095de6c",
   "metadata": {},
   "source": [
    "# Data Science Tools and Ecosystem"
   ]
  },
  {
   "cell_type": "markdown",
   "id": "ea6f5ed3-b073-4752-8246-4082480be506",
   "metadata": {},
   "source": [
    "## Author\n",
    "Mehdi Morshed Chowdhury"
   ]
  },
  {
   "cell_type": "markdown",
   "id": "3115de85-2e5e-4164-bb00-f12ab0f09faa",
   "metadata": {},
   "source": [
    "In this notebook, Data Science Tools and Ecosystem are summarized."
   ]
  },
  {
   "cell_type": "markdown",
   "id": "418822c6-7d43-48eb-96ed-6e6b0ed5d5f6",
   "metadata": {},
   "source": [
    "**Objectives**\n",
    "- List popular languages for Data Science\n",
    "- List commonly used languages for Data Science\n",
    "- List Data Science tools\n",
    "- Show how to use arithmetic expressions"
   ]
  },
  {
   "cell_type": "markdown",
   "id": "2ba90177-4fa1-4b31-b065-65c842398e00",
   "metadata": {},
   "source": [
    "Some of the popular languages that Data Scientists user are: \n",
    "1. Python\n",
    "2. R\n",
    "3. Julia"
   ]
  },
  {
   "cell_type": "markdown",
   "id": "7bb9f377-dd33-49fe-83a7-32a3ed3ea7a2",
   "metadata": {},
   "source": [
    "Some of the commonly used libraries used by Data Scientists include: \n",
    "1. Pands\n",
    "2. Matplotlib\n",
    "3. PyTorch"
   ]
  },
  {
   "cell_type": "markdown",
   "id": "79dcd601-49d2-4b61-a664-e44d5a045c23",
   "metadata": {},
   "source": [
    "|Data Science tools|\n",
    "|-------------------|\n",
    "|RStudio|\n",
    "|Jupyter|\n",
    "|Visual Studio Code|"
   ]
  },
  {
   "cell_type": "markdown",
   "id": "dc785fc8-8fa1-4b06-90b3-704150d1dfcf",
   "metadata": {},
   "source": [
    "### Below are a few examples of evaluating arithmetic expression in Python"
   ]
  },
  {
   "cell_type": "code",
   "execution_count": 2,
   "id": "28b68f4f-144c-48f6-af13-7015a2a05ded",
   "metadata": {},
   "outputs": [
    {
     "data": {
      "text/plain": [
       "17"
      ]
     },
     "execution_count": 2,
     "metadata": {},
     "output_type": "execute_result"
    }
   ],
   "source": [
    "#This is a simple arithmetic expression to multiply and then add integers\n",
    "\n",
    "(3*4)+5"
   ]
  },
  {
   "cell_type": "code",
   "execution_count": 3,
   "id": "4f6690f3-4a3c-4e03-9839-7b72af5ad506",
   "metadata": {},
   "outputs": [
    {
     "data": {
      "text/plain": [
       "3.3333333333333335"
      ]
     },
     "execution_count": 3,
     "metadata": {},
     "output_type": "execute_result"
    }
   ],
   "source": [
    "# This will convert 200 minutes to hours by diving by 60\n",
    "200/60"
   ]
  },
  {
   "cell_type": "markdown",
   "id": "c9dfd1ae-17ac-482a-bb15-25dd6a21085b",
   "metadata": {},
   "source": []
  }
 ],
 "metadata": {
  "kernelspec": {
   "display_name": "Python 3 (ipykernel)",
   "language": "python",
   "name": "python3"
  },
  "language_info": {
   "codemirror_mode": {
    "name": "ipython",
    "version": 3
   },
   "file_extension": ".py",
   "mimetype": "text/x-python",
   "name": "python",
   "nbconvert_exporter": "python",
   "pygments_lexer": "ipython3",
   "version": "3.12.8"
  }
 },
 "nbformat": 4,
 "nbformat_minor": 5
}
